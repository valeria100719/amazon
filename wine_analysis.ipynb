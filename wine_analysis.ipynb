{
 "cells": [
  {
   "cell_type": "code",
   "execution_count": 1,
   "metadata": {},
   "outputs": [],
   "source": [
    "import pandas as pd"
   ]
  },
  {
   "cell_type": "code",
   "execution_count": null,
   "metadata": {},
   "outputs": [],
   "source": [
    "# Create a DataFrame for the vine-table.csv file \n",
    "vine_df = pd.read_csv(\"vine-table.csv\")\n",
    "\n",
    "# Confirm the datatypes\n",
    "vine_df.info()\n"
   ]
  },
  {
   "cell_type": "code",
   "execution_count": null,
   "metadata": {},
   "outputs": [],
   "source": [
    "# Show the df\n",
    "vine_df.head(5)"
   ]
  },
  {
   "cell_type": "code",
   "execution_count": null,
   "metadata": {},
   "outputs": [],
   "source": [
    "# 1. Create a new DF that filters the data to show all total_votes count >= 20\n",
    "total_votes_20_df = vine_df[vine_df[\"total_votes\"] >= 20]\n",
    "total_votes_20_df.head()"
   ]
  },
  {
   "cell_type": "code",
   "execution_count": null,
   "metadata": {},
   "outputs": [],
   "source": [
    "#2. Create a new DF that shows all rows where the number of helpful_votes/total_votes >= 50%\n",
    "helpful_votes_50_df = total_votes_20_df[(total_votes_20_df[\"helpful_votes\"]/\n",
    "                                                total_votes_20_df[\"total_votes\"]) >= 0.5]\n",
    "helpful_votes_50_df.head()"
   ]
  },
  {
   "cell_type": "code",
   "execution_count": null,
   "metadata": {},
   "outputs": [],
   "source": [
    "#3. Create a new DF that shows all rows where the reviews were part of the Vine program (paid)\n",
    "paid_df = helpful_votes_50_df[helpful_votes_50_df[\"vine\"] == \"Y\"]\n",
    "paid_df.head()"
   ]
  },
  {
   "cell_type": "code",
   "execution_count": null,
   "metadata": {},
   "outputs": [],
   "source": [
    "#4. Create a new DF that shows all rows where the reviews were part of the Vine program (unpaid)\n",
    "unpaid_df = helpful_votes_50_df[helpful_votes_50_df[\"vine\"] == \"N\"]\n",
    "unpaid_df.head()"
   ]
  },
  {
   "cell_type": "code",
   "execution_count": null,
   "metadata": {},
   "outputs": [],
   "source": [
    "#5a. Determine the total number of reviews for paid\n",
    "paid_reviews_total = paid_df.count()\n",
    "paid_reviews_total[\"review_id\"]"
   ]
  },
  {
   "cell_type": "code",
   "execution_count": null,
   "metadata": {},
   "outputs": [],
   "source": [
    "# Determine the total number of reviews for unpaid\n",
    "unpaid_reviews_total = unpaid_df.count()\n",
    "unpaid_reviews_total[\"review_id\"]"
   ]
  },
  {
   "cell_type": "code",
   "execution_count": null,
   "metadata": {},
   "outputs": [],
   "source": [
    "#5c. Determine the percent of 5-star reviews for paid\n",
    "paid_reviews_5star_percentage = ((paid_reviews_5star/paid_reviews_total) * 100)\n",
    "paid_reviews_5star_percentage[\"review_id\"]"
   ]
  },
  {
   "cell_type": "code",
   "execution_count": null,
   "metadata": {},
   "outputs": [],
   "source": [
    "# Determine the percent of 5-star reviews for unpaid\n",
    "unpaid_reviews_5star_percentage = ((unpaid_reviews_5star/unpaid_reviews_total) * 100)\n",
    "unpaid_reviews_5star_percentage[\"review_id\"]"
   ]
  }
 ],
 "metadata": {
  "kernelspec": {
   "display_name": "PythonData",
   "language": "python",
   "name": "pythondata"
  },
  "language_info": {
   "codemirror_mode": {
    "name": "ipython",
    "version": 3
   },
   "file_extension": ".py",
   "mimetype": "text/x-python",
   "name": "python",
   "nbconvert_exporter": "python",
   "pygments_lexer": "ipython3",
   "version": "3.8.5"
  }
 },
 "nbformat": 4,
 "nbformat_minor": 4
}
